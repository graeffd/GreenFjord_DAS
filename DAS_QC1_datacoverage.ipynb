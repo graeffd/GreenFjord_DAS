{
 "cells": [
  {
   "cell_type": "markdown",
   "id": "952c8314-8a80-405c-85a7-043e3f9feb0a",
   "metadata": {},
   "source": [
    "# 0th Order Quality Control of DAS Data - Data Coverage"
   ]
  },
  {
   "cell_type": "markdown",
   "id": "b6ce05a0-b83c-45f4-854c-e67feee3a2ca",
   "metadata": {},
   "source": [
    "This notebook is for 1st order quality control of data recorded with the Sintela Onyx interrogator. It looks through all files within a given directory and searches for data gaps in the data. The output is a time series plot showing the data coverage with data gaps.\\\n",
    "\\\n",
    "This script will run approximately 10ms per file (for data with not too many data gaps [~1000])"
   ]
  },
  {
   "cell_type": "code",
   "execution_count": 1,
   "id": "23259e43-8717-4c63-8bc8-dc76f25627ff",
   "metadata": {},
   "outputs": [],
   "source": [
    "# load modules\n",
    "import glob\n",
    "import numpy as np\n",
    "import matplotlib.pyplot as plt\n",
    "import h5py\n",
    "import datetime\n",
    "import os\n",
    "import DASfuncs"
   ]
  },
  {
   "cell_type": "code",
   "execution_count": 41,
   "id": "9eed290b-8efc-4b0a-bb28-cee43eaa5b41",
   "metadata": {
    "tags": []
   },
   "outputs": [
    {
     "name": "stdout",
     "output_type": "stream",
     "text": [
      "1045 files in directory\n"
     ]
    }
   ],
   "source": [
    "# get all file names\n",
    "files = glob.glob('/Users/graeffd/tmp/Samsung_2TB/ManualRecorders/data_2kiloHz/*h5') # replace with your data directory\n",
    "# files = glob.glob('../../../data/lab/SaltwaterTankTest/DAS_data/*')\n",
    "files.sort()\n",
    "print('{} files in directory'.format(len(files)))"
   ]
  },
  {
   "cell_type": "code",
   "execution_count": 40,
   "id": "921a4ae4-bf03-40f2-9290-ee99bde05a9a",
   "metadata": {},
   "outputs": [],
   "source": [
    "# little helper functions\n",
    "def get_fname_time(filename):\n",
    "    '''returns datetime.datetime of filename'''\n",
    "    date = os.path.basename(filename).split('_')[-3]\n",
    "    time = os.path.basename(filename).split('_')[-2]\n",
    "    time = datetime.datetime.strptime('{}T{}'.format(date, time), '%Y-%m-%dT%H.%M.%S')\n",
    "    return time"
   ]
  },
  {
   "cell_type": "code",
   "execution_count": 61,
   "id": "084800a9-5577-4c67-981d-c93862393806",
   "metadata": {},
   "outputs": [
    {
     "name": "stdout",
     "output_type": "stream",
     "text": [
      "Processing file 1045 of 1045.\n",
      "176 data gap(s) found\n"
     ]
    }
   ],
   "source": [
    "# get data gaps from files and write into lists\n",
    "gap_info = {}\n",
    "t_filenames = []\n",
    "t_span_files = []\n",
    "t_gaps = []\n",
    "t_file_gaps = []\n",
    "\n",
    "for file_idx in range(len(files)):\n",
    "    print(r\"Processing file {} of {}.\".format(file_idx+1, len(files)), end=\"\\r\")\n",
    "    try:\n",
    "        f = h5py.File(files[file_idx],'r')\n",
    "        attrs = dict(f['Acquisition'].attrs)\n",
    "        times = np.array(f['Acquisition/Raw[0]/RawDataTime'])\n",
    "        f.close()\n",
    "\n",
    "        # times in filenames\n",
    "        filename = os.path.basename(files[file_idx])\n",
    "        fname_time = get_fname_time(filename)\n",
    "        t_filenames.append(fname_time)\n",
    "\n",
    "        # first and last sample\n",
    "        t_span_files.append((DASfuncs.sintela_to_datetime(times[0]),\n",
    "                             DASfuncs.sintela_to_datetime(times[-1])))\n",
    "\n",
    "        # data gaps within file\n",
    "        dt_nom = 1/attrs['PulseRate']\n",
    "        gap_idx = np.where(np.diff(times)/1e6 > dt_nom)[0]\n",
    "        if len(gap_idx)>0:\n",
    "            t_gaps.extend(list(zip(DASfuncs.sintela_to_datetime(times[gap_idx]), \n",
    "                            DASfuncs.sintela_to_datetime(times[gap_idx+1]))))\n",
    "            length_all = np.sum([(t2-t1).total_seconds() for t1,t2 in list(zip(DASfuncs.sintela_to_datetime(times[gap_idx]), \n",
    "                                 DASfuncs.sintela_to_datetime(times[gap_idx+1])))])\n",
    "            gap_info[filename] = {'num_gaps':len(gap_idx), \n",
    "                                      'total_length':length_all}\n",
    "            \n",
    "        # data gaps between files (last sample of file to future file first sample)\n",
    "        if file_idx<len(files)-1:\n",
    "            eps = dt_nom/10. # tolerance\n",
    "            f_next = h5py.File(files[file_idx+1],'r')\n",
    "            next_time = np.array(f_next['Acquisition/Raw[0]/RawDataTime'])[0]\n",
    "            f_next.close()\n",
    "            if (next_time-times[-1])/1e6 > dt_nom+eps:\n",
    "                t_file_gaps.append((DASfuncs.sintela_to_datetime(times[-1]),\n",
    "                                    DASfuncs.sintela_to_datetime(next_time)))\n",
    "    except:\n",
    "        pass\n",
    "        \n",
    "# calculate total data gap share\n",
    "t_gaps_total = 0.\n",
    "for t_start, t_end in t_gaps:\n",
    "    t_gaps_total += (t_end-t_start).total_seconds()\n",
    "for t_start, t_end in t_file_gaps:\n",
    "    t_gaps_total += (t_end-t_start).total_seconds()\n",
    "gaps_share = t_gaps_total/(t_span_files[-1][1]-t_span_files[0][0]).total_seconds()\n",
    "print('')\n",
    "print('{} data gap(s) found'.format(len(t_gaps)+len(t_file_gaps)))"
   ]
  },
  {
   "cell_type": "code",
   "execution_count": 93,
   "id": "f644cb92-314b-40ee-9687-0cd9f1bf2d4f",
   "metadata": {},
   "outputs": [
    {
     "data": {
      "text/plain": [
       "Text(0, 0.5, 'Counts')"
      ]
     },
     "execution_count": 93,
     "metadata": {},
     "output_type": "execute_result"
    },
    {
     "data": {
      "image/png": "[encoded data removed]",
      "text/plain": [
       "<Figure size 640x480 with 1 Axes>"
      ]
     },
     "metadata": {},
     "output_type": "display_data"
    }
   ],
   "source": [
    "# plot histogram of data gap lengths\n",
    "gap_lengths1 = [(t1-t0).total_seconds() for t0,t1 in t_gaps]\n",
    "gap_lengths2 = [(t1-t0).total_seconds() for t0,t1 in t_file_gaps]\n",
    "gap_lengths = gap_lengths1 + gap_lengths2\n",
    "gap_samples = (gap_lengths-2*1/attrs['PulseRate'])/(1/attrs['PulseRate'])\n",
    "_ = plt.hist(gap_samples, \n",
    "             bins=range(int(0),int(np.percentile(gap_samples,99)),int(10)),\n",
    "             edgecolor='white')\n",
    "plt.title('Dropped samples per data gap')\n",
    "plt.xlabel('# dropped samples ({:.3f} s) per data gap'.format(1/attrs['PulseRate']))\n",
    "plt.ylabel('Counts')\n",
    "# plt.yscale('log')"
   ]
  },
  {
   "cell_type": "code",
   "execution_count": 94,
   "id": "1b468f34-3cc1-4f37-b738-f40a20c27e0c",
   "metadata": {},
   "outputs": [],
   "source": [
    "# to vizualize really short data gaps (only a few samples), set to 'True'\n",
    "show_short = True #False/True"
   ]
  },
  {
   "cell_type": "code",
   "execution_count": 109,
   "id": "6d59cdad-bb40-4e5e-b135-9dfdc5afe3b1",
   "metadata": {},
   "outputs": [
    {
     "data": {
      "text/plain": [
       "Text(0.5, 1.0, 'Data Coverage:  2023-07-06 23:24:49 - 2023-07-07 16:48:12  UTC')"
      ]
     },
     "execution_count": 109,
     "metadata": {},
     "output_type": "execute_result"
    },
    {
     "data": {
      "image/png": "[encoded data removed]",
      "text/plain": [
       "<Figure size 1280x120 with 1 Axes>"
      ]
     },
     "metadata": {},
     "output_type": "display_data"
    }
   ],
   "source": [
    "# plot data coverage and gaps\n",
    "fig, ax = plt.subplots(figsize=(6.4*2,4.8/4.))\n",
    "\n",
    "# file start\n",
    "plt.vlines(t_filenames, -0.0, 0.04, color='C7', zorder=0)\n",
    "# time sample spaning for each file\n",
    "plt.hlines(np.full(len(t_span_files),0), \n",
    "           [t[0] for t in t_span_files], \n",
    "           [t[1] for t in t_span_files], linewidth=30, color='C0')\n",
    "# data gaps within the each file\n",
    "plt.hlines(np.full(len(t_gaps),0), \n",
    "           [t[0] for t in t_gaps], \n",
    "           [t[1] for t in t_gaps], linewidth=30, color='C3')\n",
    "# data gaps between two files\n",
    "plt.hlines(np.full(len(t_file_gaps),0), \n",
    "           [t[0] for t in t_file_gaps], \n",
    "           [t[1] for t in t_file_gaps], linewidth=30, color='C3')\n",
    "\n",
    "if show_short: #show really short data gaps\n",
    "    plt.vlines([t[0] for t in t_gaps], -0.022, 0.022, \n",
    "               color='C3') \n",
    "    plt.vlines([t[0] for t in t_file_gaps], -0.022, 0.022, \n",
    "               color='C3')\n",
    "\n",
    "ax.set_yticks([])\n",
    "ax.set_xlim(t_span_files[0][0],t_span_files[-1][1])\n",
    "ax.set_ylim(-0.05,0.05)\n",
    "ax.set_xlabel('Time [UTC]')\n",
    "plt.text(t_span_files[0][0],-0.045,' {:.3f}% data completeness'.format(100*(1-gaps_share)))\n",
    "plt.title('Data Coverage:  {} - {}  UTC'.format(t_span_files[0][0].strftime('%Y-%m-%d %H:%M:%S'), \n",
    "                                            t_span_files[-1][1].strftime('%Y-%m-%d %H:%M:%S')))"
   ]
  },
  {
   "cell_type": "markdown",
   "id": "116a2e83-8a96-4c65-a8d2-3554435dbbe6",
   "metadata": {},
   "source": [
    "**Legend:** *blue:* data;  *red:* no data;  *grey:* start of file"
   ]
  },
  {
   "cell_type": "code",
   "execution_count": 83,
   "id": "85747954-ad0b-4306-86fa-212448a433d8",
   "metadata": {
    "tags": []
   },
   "outputs": [
    {
     "name": "stdout",
     "output_type": "stream",
     "text": [
      "decimator_2023-07-06_23.40.53_UTC.h5\n",
      "{'num_gaps': 4, 'total_length': 0.029501}\n",
      "decimator_2023-07-06_23.53.53_UTC.h5\n",
      "{'num_gaps': 2, 'total_length': 0.022501}\n",
      "decimator_2023-07-06_23.56.53_UTC.h5\n",
      "{'num_gaps': 3, 'total_length': 0.013498}\n",
      "decimator_2023-07-06_23.57.53_UTC.h5\n",
      "{'num_gaps': 5, 'total_length': 0.06449400000000001}\n",
      "decimator_2023-07-07_00.45.53_UTC.h5\n",
      "{'num_gaps': 21, 'total_length': 0.080015}\n",
      "decimator_2023-07-07_02.44.53_UTC.h5\n",
      "{'num_gaps': 2, 'total_length': 0.021998}\n",
      "decimator_2023-07-07_03.18.53_UTC.h5\n",
      "{'num_gaps': 4, 'total_length': 0.033001}\n",
      "decimator_2023-07-07_06.04.53_UTC.h5\n",
      "{'num_gaps': 2, 'total_length': 0.014001}\n",
      "decimator_2023-07-07_06.37.53_UTC.h5\n",
      "{'num_gaps': 2, 'total_length': 0.057996}\n",
      "decimator_2023-07-07_07.44.53_UTC.h5\n",
      "{'num_gaps': 2, 'total_length': 0.013991}\n",
      "decimator_2023-07-07_07.57.53_UTC.h5\n",
      "{'num_gaps': 6, 'total_length': 0.024512}\n",
      "decimator_2023-07-07_08.17.53_UTC.h5\n",
      "{'num_gaps': 2, 'total_length': 0.026001}\n",
      "decimator_2023-07-07_10.06.53_UTC.h5\n",
      "{'num_gaps': 22, 'total_length': 0.08849299999999999}\n",
      "decimator_2023-07-07_10.34.53_UTC.h5\n",
      "{'num_gaps': 2, 'total_length': 0.033997}\n",
      "decimator_2023-07-07_10.39.53_UTC.h5\n",
      "{'num_gaps': 8, 'total_length': 0.032508999999999996}\n",
      "decimator_2023-07-07_11.02.53_UTC.h5\n",
      "{'num_gaps': 4, 'total_length': 0.025497}\n",
      "decimator_2023-07-07_11.05.53_UTC.h5\n",
      "{'num_gaps': 7, 'total_length': 0.028998}\n",
      "decimator_2023-07-07_11.44.53_UTC.h5\n",
      "{'num_gaps': 2, 'total_length': 0.017995}\n",
      "decimator_2023-07-07_11.47.53_UTC.h5\n",
      "{'num_gaps': 2, 'total_length': 0.026}\n",
      "decimator_2023-07-07_12.15.53_UTC.h5\n",
      "{'num_gaps': 2, 'total_length': 0.021997}\n",
      "decimator_2023-07-07_12.43.53_UTC.h5\n",
      "{'num_gaps': 2, 'total_length': 0.05}\n",
      "decimator_2023-07-07_12.46.53_UTC.h5\n",
      "{'num_gaps': 2, 'total_length': 0.042003}\n",
      "decimator_2023-07-07_13.00.53_UTC.h5\n",
      "{'num_gaps': 6, 'total_length': 0.040494}\n",
      "decimator_2023-07-07_13.28.53_UTC.h5\n",
      "{'num_gaps': 8, 'total_length': 0.038504}\n",
      "decimator_2023-07-07_13.56.53_UTC.h5\n",
      "{'num_gaps': 6, 'total_length': 0.044498}\n",
      "decimator_2023-07-07_14.24.53_UTC.h5\n",
      "{'num_gaps': 2, 'total_length': 0.066003}\n",
      "decimator_2023-07-07_14.27.53_UTC.h5\n",
      "{'num_gaps': 6, 'total_length': 0.05250400000000001}\n",
      "decimator_2023-07-07_15.08.53_UTC.h5\n",
      "{'num_gaps': 7, 'total_length': 0.028515}\n",
      "decimator_2023-07-07_15.31.53_UTC.h5\n",
      "{'num_gaps': 6, 'total_length': 0.036491}\n",
      "decimator_2023-07-07_15.39.53_UTC.h5\n",
      "{'num_gaps': 5, 'total_length': 0.021022}\n",
      "decimator_2023-07-07_16.03.53_UTC.h5\n",
      "{'num_gaps': 7, 'total_length': 0.052504}\n",
      "decimator_2023-07-07_16.04.53_UTC.h5\n",
      "{'num_gaps': 8, 'total_length': 0.051498}\n",
      "decimator_2023-07-07_16.10.53_UTC.h5\n",
      "{'num_gaps': 4, 'total_length': 0.042507}\n",
      "decimator_2023-07-07_16.41.53_UTC.h5\n",
      "{'num_gaps': 2, 'total_length': 0.05001}\n"
     ]
    }
   ],
   "source": [
    "# print the files that include data gaps\n",
    "for key in gap_info.keys():\n",
    "    print(key)\n",
    "    print(gap_info[key])"
   ]
  },
  {
   "cell_type": "code",
   "execution_count": 91,
   "id": "bb40eab8-3c75-4911-9377-d0424365d700",
   "metadata": {},
   "outputs": [
    {
     "data": {
      "text/plain": [
       "Text(0, 0.5, 'Counts')"
      ]
     },
     "execution_count": 91,
     "metadata": {},
     "output_type": "execute_result"
    },
    {
     "data": {
      "image/png": "[encoded data removed]",
      "text/plain": [
       "<Figure size 640x480 with 1 Axes>"
      ]
     },
     "metadata": {},
     "output_type": "display_data"
    }
   ],
   "source": [
    "# plot histogram showing number of data gaps per file\n",
    "gaps_per_file = []\n",
    "for key, value in gap_info.items():\n",
    "    gaps_per_file.append(value['num_gaps'])\n",
    "_ = plt.hist(gaps_per_file, \n",
    "             bins=range(int(0),int(np.max(gaps_per_file)),int(1)),\n",
    "             edgecolor='white')\n",
    "plt.title('Number of data gaps per file')\n",
    "plt.xlabel('# data gaps per file')\n",
    "plt.ylabel('Counts')\n",
    "# plt.yscale('log')"
   ]
  }
 ],
 "metadata": {
  "kernelspec": {
   "display_name": "Python 3 (ipykernel)",
   "language": "python",
   "name": "python3"
  },
  "language_info": {
   "codemirror_mode": {
    "name": "ipython",
    "version": 3
   },
   "file_extension": ".py",
   "mimetype": "text/x-python",
   "name": "python",
   "nbconvert_exporter": "python",
   "pygments_lexer": "ipython3",
   "version": "3.11.3"
  }
 },
 "nbformat": 4,
 "nbformat_minor": 5
}
