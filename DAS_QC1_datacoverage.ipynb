{
 "cells": [
  {
   "cell_type": "markdown",
   "id": "952c8314-8a80-405c-85a7-043e3f9feb0a",
   "metadata": {},
   "source": [
    "# DAS Quality Control - Data Coverage"
   ]
  },
  {
   "cell_type": "markdown",
   "id": "b6ce05a0-b83c-45f4-854c-e67feee3a2ca",
   "metadata": {},
   "source": [
    "This notebook is for 1st order quality control of data recorded with the Sintela Onyx interrogator. It looks through all files within a given directory and searches for data gaps in the data. The output is a time series plot showing the data coverage with data gaps.\\\n",
    "\\\n",
    "This script will run approximately 10ms per file (for data with not too many data gaps [~1000])"
   ]
  },
  {
   "cell_type": "code",
   "execution_count": 192,
   "id": "23259e43-8717-4c63-8bc8-dc76f25627ff",
   "metadata": {},
   "outputs": [],
   "source": [
    "# load modules\n",
    "import glob\n",
    "import numpy as np\n",
    "import matplotlib.pyplot as plt\n",
    "import h5py\n",
    "import datetime\n",
    "import os"
   ]
  },
  {
   "cell_type": "code",
   "execution_count": 193,
   "id": "9eed290b-8efc-4b0a-bb28-cee43eaa5b41",
   "metadata": {
    "tags": []
   },
   "outputs": [
    {
     "name": "stdout",
     "output_type": "stream",
     "text": [
      "347 files in directory\n"
     ]
    }
   ],
   "source": [
    "# get all file names\n",
    "files = glob.glob('/Users/graeffd/tmp/Samsung_8TB/*h5') # replace with your data directory\n",
    "files.sort()\n",
    "print('{} files in directory'.format(len(files)))"
   ]
  },
  {
   "cell_type": "code",
   "execution_count": 200,
   "id": "0ff1670b-065c-4278-9563-398481c6fa39",
   "metadata": {},
   "outputs": [],
   "source": [
    "# helper functions\n",
    "def sintela_to_datetime(sintela_times):\n",
    "    '''returns an array of datetime.datetime ''' \n",
    "    days1970 = datetime.date(1970, 1, 1).toordinal()\n",
    "    # Vectorize everything\n",
    "    converttime = np.vectorize(datetime.datetime.fromordinal)\n",
    "    addday_lambda = lambda x : datetime.timedelta(days=x)\n",
    "    adddays = np.vectorize(addday_lambda)\n",
    "    day = days1970 + sintela_times/1e6/60/60/24\n",
    "    thisDateTime = converttime(np.floor(day).astype(int))\n",
    "    dayFraction = day-np.floor(day)\n",
    "    thisDateTime = thisDateTime + adddays(dayFraction)\n",
    "    return thisDateTime\n",
    "\n",
    "def get_fname_time(filename):\n",
    "    '''returns datetime.datetime of filename'''\n",
    "    date = filename.split('_')[1]\n",
    "    time = filename.split('_')[2]\n",
    "    time = datetime.datetime.strptime('{}T{}'.format(date, time), '%Y-%m-%dT%H.%M.%S')\n",
    "    return time"
   ]
  },
  {
   "cell_type": "code",
   "execution_count": 201,
   "id": "084800a9-5577-4c67-981d-c93862393806",
   "metadata": {},
   "outputs": [],
   "source": [
    "# get data gaps from files and write into lists\n",
    "t_filenames = []\n",
    "t_span_files = []\n",
    "t_gaps = []\n",
    "t_file_gaps = []\n",
    "t_start_gaps = []\n",
    "\n",
    "for file_idx in range(len(files)):\n",
    "    f = h5py.File(files[file_idx],'r')\n",
    "    attrs = dict(f['Acquisition'].attrs)\n",
    "    times = np.array(f['Acquisition/Raw[0]/RawDataTime'])\n",
    "    f.close()\n",
    "    \n",
    "    # times in filenames\n",
    "    filename = os.path.basename(files[file_idx])\n",
    "    fname_time = get_fname_time(filename)\n",
    "    t_filenames.append(fname_time)\n",
    "\n",
    "    # first and last sample\n",
    "    t_span_files.append((sintela_to_datetime(times[0]),\n",
    "                         sintela_to_datetime(times[-1])))\n",
    "    \n",
    "    # data gaps within file\n",
    "    dt_nom = 1/attrs['PulseRate']\n",
    "    gap_idx = np.where(np.diff(times)/1e6 > dt_nom)[0]\n",
    "    if len(gap_idx)>0:\n",
    "        t_gaps.extend(list(zip(sintela_to_datetime(times[gap_idx]), \n",
    "                        sintela_to_datetime(times[gap_idx+1]))))\n",
    "            \n",
    "    # data gaps between files (last sample of file to future file)\n",
    "    eps = dt_nom/10. # tolerance\n",
    "    if file_idx<len(files)-1: # skip last file because future files doesn't exist\n",
    "        fname_time_next = get_fname_time(os.path.basename(files[file_idx+1]))\n",
    "        if (fname_time_next-sintela_to_datetime(times[-1])).total_seconds() > dt_nom+eps:\n",
    "            t_file_gaps.append((sintela_to_datetime(times[-1]),fname_time_next))\n",
    "       \n",
    "    # data gaps from file start to first sample\n",
    "    if (sintela_to_datetime(times[0])-fname_time).total_seconds() > eps:\n",
    "        t_start_gaps.append((fname_time, sintela_to_datetime(times[0])))\n",
    "        \n",
    "# calculate total data gap share\n",
    "t_gaps_total = 0.\n",
    "for t_start, t_end in t_gaps:\n",
    "    t_gaps_total += (t_end-t_start).total_seconds()\n",
    "for t_start, t_end in t_file_gaps:\n",
    "    t_gaps_total += (t_end-t_start).total_seconds()\n",
    "for t_start, t_end in t_start_gaps:\n",
    "    t_gaps_total += (t_end-t_start).total_seconds()\n",
    "gaps_share = t_gaps_total/(t_span_files[-1][1]-t_span_files[0][0]).total_seconds()"
   ]
  },
  {
   "cell_type": "code",
   "execution_count": 197,
   "id": "6d59cdad-bb40-4e5e-b135-9dfdc5afe3b1",
   "metadata": {},
   "outputs": [
    {
     "data": {
      "text/plain": [
       "Text(0.5, 1.0, 'Data Coverage:  2023-05-22 18:33:59 - 2023-05-23 00:37:59 ')"
      ]
     },
     "execution_count": 197,
     "metadata": {},
     "output_type": "execute_result"
    },
    {
     "data": {
      "image/png": "[encoded data removed]",
      "text/plain": [
       "<Figure size 1280x120 with 1 Axes>"
      ]
     },
     "metadata": {},
     "output_type": "display_data"
    }
   ],
   "source": [
    "# plot data coverage and gaps\n",
    "fig, ax = plt.subplots(figsize=(6.4*2,4.8/4.))\n",
    "\n",
    "# file start\n",
    "plt.vlines(t_filenames, -0.0, 0.04, color='C7', zorder=0, label='file start')\n",
    "\n",
    "# time sample spaning for each file\n",
    "plt.hlines(np.full(len(t_span_files),0), \n",
    "           [t[0] for t in t_span_files], \n",
    "           [t[1] for t in t_span_files], linewidth=30, color='C0', label='data')\n",
    "# data gaps within the each file\n",
    "plt.hlines(np.full(len(t_gaps),0), \n",
    "           [t[0] for t in t_gaps], \n",
    "           [t[1] for t in t_gaps], linewidth=30, color='C3')#, label='no data')\n",
    "# data gaps between two files\n",
    "plt.hlines(np.full(len(t_file_gaps),0), \n",
    "           [t[0] for t in t_file_gaps], \n",
    "           [t[1] for t in t_file_gaps], linewidth=30, color='C3')\n",
    "# data gaps at start of files\n",
    "plt.hlines(np.full(len(t_start_gaps),0), \n",
    "           [t[0] for t in t_start_gaps], \n",
    "           [t[1] for t in t_start_gaps], linewidth=30, color='C3')\n",
    "\n",
    "ax.set_yticks([])\n",
    "ax.set_xlim(t_span_files[0][0],t_span_files[-1][1])\n",
    "ax.set_ylim(-0.05,0.05)\n",
    "ax.set_xlabel('Time [UTC]')\n",
    "plt.text(t_span_files[0][0],-0.045,' {:.2f}% data completeness'.format(100*(1-gaps_share)))\n",
    "plt.title('Data Coverage:  {} - {} '.format(t_span_files[0][0].strftime('%Y-%m-%d %H:%M:%S'), \n",
    "                                            t_span_files[-1][1].strftime('%Y-%m-%d %H:%M:%S')))"
   ]
  },
  {
   "cell_type": "markdown",
   "id": "116a2e83-8a96-4c65-a8d2-3554435dbbe6",
   "metadata": {},
   "source": [
    "**Legend:** \\\n",
    "*blue:* data \\\n",
    "*red:* no data \\\n",
    "*grey:* start of file"
   ]
  }
 ],
 "metadata": {
  "kernelspec": {
   "display_name": "Python 3 (ipykernel)",
   "language": "python",
   "name": "python3"
  },
  "language_info": {
   "codemirror_mode": {
    "name": "ipython",
    "version": 3
   },
   "file_extension": ".py",
   "mimetype": "text/x-python",
   "name": "python",
   "nbconvert_exporter": "python",
   "pygments_lexer": "ipython3",
   "version": "3.11.3"
  }
 },
 "nbformat": 4,
 "nbformat_minor": 5
}
